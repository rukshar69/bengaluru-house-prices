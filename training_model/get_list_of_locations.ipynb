{
 "cells": [
  {
   "cell_type": "code",
   "execution_count": 4,
   "metadata": {},
   "outputs": [],
   "source": [
    "import pandas as pd; import json"
   ]
  },
  {
   "cell_type": "code",
   "execution_count": 5,
   "metadata": {},
   "outputs": [
    {
     "data": {
      "text/plain": [
       "Index(['other', 'Whitefield', 'Sarjapur  Road', 'Electronic City',\n",
       "       'Raja Rajeshwari Nagar', 'Uttarahalli', 'Haralur Road', 'Marathahalli',\n",
       "       'Bannerghatta Road', 'Hennur Road',\n",
       "       ...\n",
       "       'Doddakallasandra', 'Mahalakshmi Layout', 'Laggere',\n",
       "       'Vishwapriya Layout', 'Vishveshwarya Layout', '2nd Stage Nagarbhavi',\n",
       "       'Nagasandra', 'HAL 2nd Stage', 'Banjara Layout', 'Marsur'],\n",
       "      dtype='object', name='location', length=241)"
      ]
     },
     "execution_count": 5,
     "metadata": {},
     "output_type": "execute_result"
    }
   ],
   "source": [
    "df = pd.read_csv('bengaluru_housing_cleaned.csv')\n",
    "locations = df['location'].value_counts(ascending=False)\n",
    "locations.index"
   ]
  },
  {
   "cell_type": "code",
   "execution_count": 6,
   "metadata": {},
   "outputs": [],
   "source": [
    "#Export location and column information to a file that will be useful later on in our prediction application\n",
    "columns = {\n",
    "    'locations' : [loc.lower() for loc in locations.index]\n",
    "}\n",
    "with open(\"location_names.json\",\"w\") as f:\n",
    "    f.write(json.dumps(columns))"
   ]
  }
 ],
 "metadata": {
  "kernelspec": {
   "display_name": "py311_ml",
   "language": "python",
   "name": "python3"
  },
  "language_info": {
   "codemirror_mode": {
    "name": "ipython",
    "version": 3
   },
   "file_extension": ".py",
   "mimetype": "text/x-python",
   "name": "python",
   "nbconvert_exporter": "python",
   "pygments_lexer": "ipython3",
   "version": "3.11.8"
  }
 },
 "nbformat": 4,
 "nbformat_minor": 2
}
